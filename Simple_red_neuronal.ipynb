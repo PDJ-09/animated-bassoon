{
  "nbformat": 4,
  "nbformat_minor": 0,
  "metadata": {
    "colab": {
      "name": "Simple red neuronal.ipynb",
      "provenance": [],
      "collapsed_sections": [],
      "authorship_tag": "ABX9TyNtcCDTOKY66VdFmMydQu7l",
      "include_colab_link": true
    },
    "kernelspec": {
      "name": "python3",
      "display_name": "Python 3"
    },
    "language_info": {
      "name": "python"
    }
  },
  "cells": [
    {
      "cell_type": "markdown",
      "metadata": {
        "id": "view-in-github",
        "colab_type": "text"
      },
      "source": [
        "<a href=\"https://colab.research.google.com/github/PDJ-09/animated-bassoon/blob/main/Simple_red_neuronal.ipynb\" target=\"_parent\"><img src=\"https://colab.research.google.com/assets/colab-badge.svg\" alt=\"Open In Colab\"/></a>"
      ]
    },
    {
      "cell_type": "code",
      "execution_count": 69,
      "metadata": {
        "id": "OsGFLBGxN988"
      },
      "outputs": [],
      "source": [
        "import tensorflow as tf\n",
        "import matplotlib.pyplot as plt\n",
        "import numpy as np"
      ]
    },
    {
      "cell_type": "code",
      "source": [
        "# Entries and results\n",
        "c = np.array([-40, -10, 0, 8, 15, 22, 38], dtype=float)\n",
        "f = np.array([-40, 14, 32, 46, 59, 72, 100], dtype=float)"
      ],
      "metadata": {
        "id": "MAREwe1UO9wJ"
      },
      "execution_count": 70,
      "outputs": []
    },
    {
      "cell_type": "code",
      "source": [
        "# Define the model\n",
        "#layer = tf.keras.layers.Dense(units=1, input_shape=[1])\n",
        "#model = tf.keras.Sequential([layer])"
      ],
      "metadata": {
        "id": "5HOxWBJ-QuYU"
      },
      "execution_count": 71,
      "outputs": []
    },
    {
      "cell_type": "code",
      "source": [
        "# Alternative path\n",
        "hid1 = tf.keras.layers.Dense(units=3, input_shape=[1])\n",
        "hid2 = tf.keras.layers.Dense(units=3)\n",
        "output = tf.keras.layers.Dense(units=1)\n",
        "model = tf.keras.Sequential([hid1, hid2, output])"
      ],
      "metadata": {
        "id": "eM1n4K6IeKQr"
      },
      "execution_count": 72,
      "outputs": []
    },
    {
      "cell_type": "code",
      "source": [
        "# Compile the model\n",
        "model.compile(\n",
        "    optimizer=tf.keras.optimizers.Adam(0.05),\n",
        "    loss='mean_squared_error'\n",
        ")"
      ],
      "metadata": {
        "id": "64BvW3fJRGDY"
      },
      "execution_count": 73,
      "outputs": []
    },
    {
      "cell_type": "code",
      "source": [
        "print(\"Begin training...\")\n",
        "hist= model.fit(c, f, epochs=1000, verbose=False)\n",
        "print('Training complete!')"
      ],
      "metadata": {
        "colab": {
          "base_uri": "https://localhost:8080/"
        },
        "id": "Zr_OJOv7Rpx2",
        "outputId": "b80f11fa-ffad-497f-da1b-1afb7b996d9c"
      },
      "execution_count": 74,
      "outputs": [
        {
          "output_type": "stream",
          "name": "stdout",
          "text": [
            "Begin training...\n",
            "Training complete!\n"
          ]
        }
      ]
    },
    {
      "cell_type": "code",
      "source": [
        "plt.xlabel('# Epoch')\n",
        "plt.ylabel(\"Loss magnitude\")\n",
        "plt.plot(hist.history[\"loss\"])"
      ],
      "metadata": {
        "colab": {
          "base_uri": "https://localhost:8080/",
          "height": 296
        },
        "id": "enR4yW6ASZpd",
        "outputId": "b0a4eb78-ae47-47e0-a8c1-0197eda4c68b"
      },
      "execution_count": 79,
      "outputs": [
        {
          "output_type": "execute_result",
          "data": {
            "text/plain": [
              "[<matplotlib.lines.Line2D at 0x7f5174b3db90>]"
            ]
          },
          "metadata": {},
          "execution_count": 79
        },
        {
          "output_type": "display_data",
          "data": {
            "text/plain": [
              "<Figure size 432x288 with 1 Axes>"
            ],
            "image/png": "[encoded data removed]"
          },
          "metadata": {
            "needs_background": "light"
          }
        }
      ]
    },
    {
      "cell_type": "markdown",
      "source": [
        "The plot suggests that only 400-600 epochs are needed. The model accuracy does not improve much after that. If we add more neurons to the network, less ephoch will produce results with fewer trials"
      ],
      "metadata": {
        "id": "Wk4w6glRcgwF"
      }
    },
    {
      "cell_type": "code",
      "source": [
        "# Predict the value of 100C in Farenheit\n",
        "# 100C = 212F\n",
        "\n",
        "res = model.predict([100])\n",
        "print(\"The result is \" + str(res) + \" Farenheit\")"
      ],
      "metadata": {
        "colab": {
          "base_uri": "https://localhost:8080/"
        },
        "id": "H55loh5YTH0i",
        "outputId": "024fff8f-c0a7-4974-f945-f0f30f679450"
      },
      "execution_count": 80,
      "outputs": [
        {
          "output_type": "stream",
          "name": "stdout",
          "text": [
            "The result is [[211.74744]] Farenheit\n"
          ]
        }
      ]
    },
    {
      "cell_type": "code",
      "source": [
        "# Make a series of predictions and compare the results with real data\n",
        "test_c = [-50, 44, 21, 210, -74, 0, 33]\n",
        "real_f = np.array([-58, 111.2, 69.8, 410, -101.2, 32, 91.4])\n",
        "predicted_f = []\n",
        "diff_f = []\n",
        "\n",
        "# Do predictions \n",
        "for c in test_c:\n",
        "  result =  model.predict([c])\n",
        "  predicted_f = (np.append(predicted_f, result))\n",
        "\n",
        "# Print predictions\n",
        "print(\"Predicted data:\")\n",
        "print(predicted_f)\n",
        "print(\"\\n\")\n",
        "\n",
        "# Compare predicted data\n",
        "for (f_r, f_p) in zip(real_f, predicted_f):\n",
        "  diff = f_r-f_p\n",
        "  diff_f = np.append(diff_f, diff)\n",
        "\n",
        "print(\"Model data vs real data:\")\n",
        "print(diff_f)"
      ],
      "metadata": {
        "colab": {
          "base_uri": "https://localhost:8080/"
        },
        "id": "aRPOgOqBT7uo",
        "outputId": "5a300f47-cc22-408f-fc43-3643643e6d29"
      },
      "execution_count": 81,
      "outputs": [
        {
          "output_type": "stream",
          "name": "stdout",
          "text": [
            "Predicted data:\n",
            "[ -57.94493484  111.06229401   69.7094574   409.5218811  -101.09571838\n",
            "   31.95252419   91.28485107]\n",
            "\n",
            "\n",
            "Model data vs real data:\n",
            "[-0.05506516  0.13770599  0.0905426   0.4781189  -0.10428162  0.04747581\n",
            "  0.11514893]\n"
          ]
        }
      ]
    },
    {
      "cell_type": "code",
      "source": [
        "# Check model details\n",
        "print(\"Interal variables of the model\")\n",
        "#print(layer.get_weights())\n",
        "print(hid1.get_weights())\n",
        "print(hid2.get_weights())\n",
        "print(output.get_weights())"
      ],
      "metadata": {
        "colab": {
          "base_uri": "https://localhost:8080/"
        },
        "id": "Zy0NF_qPdiew",
        "outputId": "6fedcff5-6690-4571-e77a-3e8155539ce3"
      },
      "execution_count": 82,
      "outputs": [
        {
          "output_type": "stream",
          "name": "stdout",
          "text": [
            "Interal variables of the model\n",
            "[array([[ 0.04062837, -0.5854247 ,  0.32470423]], dtype=float32), array([ 3.2716606 , -3.4280674 ,  0.09617397], dtype=float32)]\n",
            "[array([[ 0.2586479 , -0.8872727 , -1.2276785 ],\n",
            "       [ 1.463614  , -0.24726395,  0.7708408 ],\n",
            "       [ 0.29224804, -0.30382222,  0.04383316]], dtype=float32), array([-3.1115875, -1.9816487, -3.2686596], dtype=float32)]\n",
            "[array([[-1.1483486],\n",
            "       [-0.3629802],\n",
            "       [-1.9278337]], dtype=float32), array([3.0149295], dtype=float32)]\n"
          ]
        }
      ]
    }
  ]
}