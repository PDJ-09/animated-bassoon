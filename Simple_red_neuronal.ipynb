{
  "nbformat": 4,
  "nbformat_minor": 0,
  "metadata": {
    "colab": {
      "name": "Simple red neuronal.ipynb",
      "provenance": [],
      "authorship_tag": "ABX9TyP/5/Q18fL3eTNmBI4Wr1P+",
      "include_colab_link": true
    },
    "kernelspec": {
      "name": "python3",
      "display_name": "Python 3"
    },
    "language_info": {
      "name": "python"
    }
  },
  "cells": [
    {
      "cell_type": "markdown",
      "metadata": {
        "id": "view-in-github",
        "colab_type": "text"
      },
      "source": [
        "<a href=\"https://colab.research.google.com/github/PDJ-09/animated-bassoon/blob/main/Simple_red_neuronal.ipynb\" target=\"_parent\"><img src=\"https://colab.research.google.com/assets/colab-badge.svg\" alt=\"Open In Colab\"/></a>"
      ]
    },
    {
      "cell_type": "code",
      "execution_count": 7,
      "metadata": {
        "id": "OsGFLBGxN988"
      },
      "outputs": [],
      "source": [
        "import tensorflow as tf\n",
        "import matplotlib.pyplot as plt\n",
        "import numpy as np"
      ]
    },
    {
      "cell_type": "code",
      "source": [
        "# Entries and results\n",
        "c = np.array([-40, -10, 0, 8, 15, 22, 38], dtype=float)\n",
        "f = np.array([-40, 14, 32, 46, 59, 72, 100], dtype=float)"
      ],
      "metadata": {
        "id": "MAREwe1UO9wJ"
      },
      "execution_count": 8,
      "outputs": []
    },
    {
      "cell_type": "code",
      "source": [
        "layer = tf.keras.layers.Dense(units=1, input_shape=[1])\n",
        "model = tf.keras.Sequential([layer])"
      ],
      "metadata": {
        "id": "5HOxWBJ-QuYU"
      },
      "execution_count": 9,
      "outputs": []
    },
    {
      "cell_type": "code",
      "source": [
        "# Compile the model\n",
        "model.compile(\n",
        "    optimizer=tf.keras.optimizers.Adam(0.1),\n",
        "    loss='mean_squared_error'\n",
        ")"
      ],
      "metadata": {
        "id": "64BvW3fJRGDY"
      },
      "execution_count": 10,
      "outputs": []
    },
    {
      "cell_type": "code",
      "source": [
        "print(\"Begin training...\")\n",
        "hist= model.fit(c, f, epochs=1000, verbose=False)\n",
        "print('Training complete!')"
      ],
      "metadata": {
        "colab": {
          "base_uri": "https://localhost:8080/"
        },
        "id": "Zr_OJOv7Rpx2",
        "outputId": "aa8b7701-0a6f-49a2-fa6a-dc864f979df3"
      },
      "execution_count": 12,
      "outputs": [
        {
          "output_type": "stream",
          "name": "stdout",
          "text": [
            "Begin training...\n",
            "Training complete!\n"
          ]
        }
      ]
    },
    {
      "cell_type": "code",
      "source": [
        "plt.xlabel('# Epoch')\n",
        "plt.ylabel(\"Loss magnitude\")\n",
        "plt.plot(hist.history[\"loss\"])"
      ],
      "metadata": {
        "colab": {
          "base_uri": "https://localhost:8080/",
          "height": 298
        },
        "id": "enR4yW6ASZpd",
        "outputId": "e9d80331-de3d-46e3-edef-efb0f41bfbc8"
      },
      "execution_count": 13,
      "outputs": [
        {
          "output_type": "execute_result",
          "data": {
            "text/plain": [
              "[<matplotlib.lines.Line2D at 0x7f5177cf1e90>]"
            ]
          },
          "metadata": {},
          "execution_count": 13
        },
        {
          "output_type": "display_data",
          "data": {
            "text/plain": [
              "<Figure size 432x288 with 1 Axes>"
            ],
            "image/png": "[encoded data removed]"
          },
          "metadata": {
            "needs_background": "light"
          }
        }
      ]
    },
    {
      "cell_type": "code",
      "source": [
        "# Predict the value of 100C in Farenheit\n",
        "# 100C = 212F\n",
        "\n",
        "res = model.predict([100])\n",
        "print(\"The result is \" + str(res) + \" Farenheit\")"
      ],
      "metadata": {
        "colab": {
          "base_uri": "https://localhost:8080/"
        },
        "id": "H55loh5YTH0i",
        "outputId": "97a48510-19a3-4ce1-8ab2-0c5003775c62"
      },
      "execution_count": 20,
      "outputs": [
        {
          "output_type": "stream",
          "name": "stdout",
          "text": [
            "The result is [[211.74744]] Farenheit\n"
          ]
        }
      ]
    },
    {
      "cell_type": "code",
      "source": [
        "# Make a series of predictions and compare the results with real data\n",
        "test_c = [-50, 44, 21, 210, -74, 0, 33]\n",
        "real_f = np.array([-58, 111.2, 69.8, 410, -101.2, 32, 91.4])\n",
        "predicted_f = []\n",
        "diff_f = []\n",
        "\n",
        "# Do predictions \n",
        "for c in test_c:\n",
        "  result =  model.predict([c])\n",
        "  predicted_f = (np.append(predicted_f, result))\n",
        "\n",
        "# Print predictions\n",
        "print(\"Predicted data:\")\n",
        "print(predicted_f)\n",
        "print(\"\\n\")\n",
        "\n",
        "# Compare predicted data\n",
        "for (f_r, f_p) in zip(real_f, predicted_f):\n",
        "  diff = f_r-f_p\n",
        "  diff_f = np.append(diff_f, diff)\n",
        "\n",
        "print(\"Model data vs real data:\")\n",
        "print(diff_f)"
      ],
      "metadata": {
        "colab": {
          "base_uri": "https://localhost:8080/"
        },
        "id": "aRPOgOqBT7uo",
        "outputId": "df1a7f7e-0989-43bb-aa0c-1b14e5ac7cda"
      },
      "execution_count": 37,
      "outputs": [
        {
          "output_type": "stream",
          "name": "stdout",
          "text": [
            "Predicted data:\n",
            "[ -57.94499588  111.06225586   69.70941925  409.5218811  -101.09577942\n",
            "   31.95248032   91.28482056]\n",
            "\n",
            "\n",
            "Model data vs real data:\n",
            "[-0.05500412  0.13774414  0.09058075  0.4781189  -0.10422058  0.04751968\n",
            "  0.11517944]\n"
          ]
        }
      ]
    }
  ]
}